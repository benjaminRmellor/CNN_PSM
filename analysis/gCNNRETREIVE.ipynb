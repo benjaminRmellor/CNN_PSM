{
 "cells": [
  {
   "cell_type": "code",
   "execution_count": 1,
   "id": "08bb86b1-417b-4a1b-8611-a240c1951298",
   "metadata": {},
   "outputs": [],
   "source": [
    "# Notebook to extract timeseries from "
   ]
  },
  {
   "cell_type": "code",
   "execution_count": null,
   "id": "b58ced52-590f-4d2f-a891-261805e934e4",
   "metadata": {},
   "outputs": [],
   "source": [
    "import sys\n",
    "\n",
    "import os\n",
    "import numpy as np\n",
    "import xarray as xr\n",
    "import matplotlib.pyplot as plt\n",
    "import matplotlib.colors as mpc\n",
    "\n",
    "import cartopy.feature as ccft\n",
    "import cartopy.crs as ccrs\n",
    "\n",
    "import pandas as pd\n",
    "import pykrige as pk\n",
    "import pykrige.kriging_tools as kt\n",
    "\n",
    "import gstools as gs"
   ]
  },
  {
   "cell_type": "code",
   "execution_count": 2,
   "id": "2bc46480-b9aa-437b-a839-6542bd230b50",
   "metadata": {},
   "outputs": [],
   "source": [
    "init_dir = os.getcwd()\n",
    "data_dir = f'{init_dir}/data'"
   ]
  },
  {
   "cell_type": "code",
   "execution_count": 3,
   "id": "11fe9173-b0cc-4ac3-81f0-83557bff3aa5",
   "metadata": {},
   "outputs": [],
   "source": [
    "z_dat = pd.read_excel(f'{data_dir}/obs_ts_1940.xlsx')\n",
    "loc_dat = pd.read_excel(f'{data_dir}/tr_meta.xlsx')\n",
    "true_cols = z_dat.columns[1:]\n",
    "z_dat# Set a custom index\n",
    "loc_dat.set_index('Series Name', inplace=True)\n",
    "z_dat.set_index('Year', inplace=True)\n",
    "true_cols = true_cols[1:]"
   ]
  },
  {
   "cell_type": "code",
   "execution_count": 4,
   "id": "e08b9935-a86d-457a-a22c-a77c7a694c31",
   "metadata": {},
   "outputs": [],
   "source": [
    "init_dir = os.getcwd()\n",
    "\n",
    "dat_str = f'{data_dir}/gCNN_1kE_ret.nc'\n",
    "\n",
    "dat = xr.open_dataset(dat_str)"
   ]
  },
  {
   "cell_type": "code",
   "execution_count": 5,
   "id": "11a9d709-51a8-4b70-8264-6545dbcd4261",
   "metadata": {},
   "outputs": [],
   "source": [
    "dat = dat.rename(\n",
    "    {'__xarray_dataarray_variable__':'d18op'}\n",
    "        )"
   ]
  },
  {
   "cell_type": "code",
   "execution_count": 6,
   "id": "fae8b172-b775-4f84-a7a9-6dfbbd30f1b6",
   "metadata": {},
   "outputs": [],
   "source": [
    "def f(name, year, data = dat):\n",
    "    \n",
    "    \"\"\"\n",
    "    Function to return the time series of a study site using the PRYSM model. \n",
    "    See Dee et al., (2015); Evans (2007).\n",
    "    \n",
    "    Inputs:\n",
    "        n: name of study site\n",
    "        data: xr datarray to be used to calculate and extract values\n",
    "    \n",
    "    Outputs:\n",
    "        site_d18: Timeseries of predicted d18Otr \n",
    "    \n",
    "    \"\"\"\n",
    "    \n",
    "    lat0 = loc_dat.loc[name]['Lat']\n",
    "    lon0 = loc_dat.loc[name]['Lon']\n",
    "\n",
    "\n",
    "    dat_ = data.d18op.sel(latitude = lat0, method='nearest')\n",
    "    dat_ = dat_.sel(longitude = lon0, method='nearest')\n",
    "    dat_ = dat_.sel(year=year)\n",
    "\n",
    "    val = round(float(dat_), 3)\n",
    "    \n",
    "    return val"
   ]
  },
  {
   "cell_type": "code",
   "execution_count": 8,
   "id": "c0cea0a6-7e3c-44fc-82c8-400c39daf28b",
   "metadata": {},
   "outputs": [
    {
     "data": {
      "text/plain": [
       "30.362"
      ]
     },
     "execution_count": 8,
     "metadata": {},
     "output_type": "execute_result"
    }
   ],
   "source": [
    "f('ball_v', 2000)"
   ]
  },
  {
   "cell_type": "code",
   "execution_count": 10,
   "id": "ce160f06-e5ea-437f-8b0e-1363f9c16459",
   "metadata": {},
   "outputs": [],
   "source": [
    "# Stack the DataFrame and remove rows with all NaN values\n",
    "z_stack = z_dat.stack().dropna()"
   ]
  },
  {
   "cell_type": "code",
   "execution_count": 11,
   "id": "b7534ea8-ed9d-4df3-83d7-cae5cd497748",
   "metadata": {},
   "outputs": [],
   "source": [
    "data_list = []\n",
    "\n",
    "for i, meta in enumerate(z_stack.index):\n",
    "    \n",
    "    year = meta[0]\n",
    "    name = meta[1]\n",
    "    \n",
    "    z = z_stack.loc[meta]\n",
    "\n",
    "    lat = loc_dat.loc[name].Lat\n",
    "    lon = loc_dat.loc[name].Lon\n",
    "    \n",
    "    o = f(name, year, data=dat)\n",
    "    \n",
    "        # Append the data to the list\n",
    "    data_list.append({\n",
    "        \"year\": year,\n",
    "        \"name\": name,\n",
    "        \"gCNN_d18o\": o\n",
    "    })\n",
    "\n",
    "# Create a DataFrame from the list\n",
    "result_df = pd.DataFrame(data_list)"
   ]
  },
  {
   "cell_type": "code",
   "execution_count": 18,
   "id": "0575beea-f7f4-436f-adb5-49db050fee3b",
   "metadata": {},
   "outputs": [
    {
     "data": {
      "text/html": [
       "<div>\n",
       "<style scoped>\n",
       "    .dataframe tbody tr th:only-of-type {\n",
       "        vertical-align: middle;\n",
       "    }\n",
       "\n",
       "    .dataframe tbody tr th {\n",
       "        vertical-align: top;\n",
       "    }\n",
       "\n",
       "    .dataframe thead th {\n",
       "        text-align: right;\n",
       "    }\n",
       "</style>\n",
       "<table border=\"1\" class=\"dataframe\">\n",
       "  <thead>\n",
       "    <tr style=\"text-align: right;\">\n",
       "      <th></th>\n",
       "      <th>year</th>\n",
       "      <th>name</th>\n",
       "      <th>gCNN_d18o</th>\n",
       "    </tr>\n",
       "  </thead>\n",
       "  <tbody>\n",
       "    <tr>\n",
       "      <th>2</th>\n",
       "      <td>1940</td>\n",
       "      <td>jenkins</td>\n",
       "      <td>23.038</td>\n",
       "    </tr>\n",
       "    <tr>\n",
       "      <th>8</th>\n",
       "      <td>1941</td>\n",
       "      <td>jenkins</td>\n",
       "      <td>23.038</td>\n",
       "    </tr>\n",
       "    <tr>\n",
       "      <th>14</th>\n",
       "      <td>1942</td>\n",
       "      <td>jenkins</td>\n",
       "      <td>23.038</td>\n",
       "    </tr>\n",
       "    <tr>\n",
       "      <th>20</th>\n",
       "      <td>1943</td>\n",
       "      <td>jenkins</td>\n",
       "      <td>23.038</td>\n",
       "    </tr>\n",
       "    <tr>\n",
       "      <th>26</th>\n",
       "      <td>1944</td>\n",
       "      <td>jenkins</td>\n",
       "      <td>23.038</td>\n",
       "    </tr>\n",
       "    <tr>\n",
       "      <th>...</th>\n",
       "      <td>...</td>\n",
       "      <td>...</td>\n",
       "      <td>...</td>\n",
       "    </tr>\n",
       "    <tr>\n",
       "      <th>589</th>\n",
       "      <td>2002</td>\n",
       "      <td>jenkins</td>\n",
       "      <td>23.038</td>\n",
       "    </tr>\n",
       "    <tr>\n",
       "      <th>599</th>\n",
       "      <td>2003</td>\n",
       "      <td>jenkins</td>\n",
       "      <td>23.038</td>\n",
       "    </tr>\n",
       "    <tr>\n",
       "      <th>609</th>\n",
       "      <td>2004</td>\n",
       "      <td>jenkins</td>\n",
       "      <td>23.038</td>\n",
       "    </tr>\n",
       "    <tr>\n",
       "      <th>619</th>\n",
       "      <td>2005</td>\n",
       "      <td>jenkins</td>\n",
       "      <td>23.038</td>\n",
       "    </tr>\n",
       "    <tr>\n",
       "      <th>628</th>\n",
       "      <td>2006</td>\n",
       "      <td>jenkins</td>\n",
       "      <td>23.038</td>\n",
       "    </tr>\n",
       "  </tbody>\n",
       "</table>\n",
       "<p>67 rows × 3 columns</p>\n",
       "</div>"
      ],
      "text/plain": [
       "     year     name  gCNN_d18o\n",
       "2    1940  jenkins     23.038\n",
       "8    1941  jenkins     23.038\n",
       "14   1942  jenkins     23.038\n",
       "20   1943  jenkins     23.038\n",
       "26   1944  jenkins     23.038\n",
       "..    ...      ...        ...\n",
       "589  2002  jenkins     23.038\n",
       "599  2003  jenkins     23.038\n",
       "609  2004  jenkins     23.038\n",
       "619  2005  jenkins     23.038\n",
       "628  2006  jenkins     23.038\n",
       "\n",
       "[67 rows x 3 columns]"
      ]
     },
     "execution_count": 18,
     "metadata": {},
     "output_type": "execute_result"
    }
   ],
   "source": [
    "result_df[result_df['name'] == 'jenkins']"
   ]
  },
  {
   "cell_type": "code",
   "execution_count": 35,
   "id": "71fdc50b-febe-4379-b96e-52752d074b94",
   "metadata": {},
   "outputs": [],
   "source": [
    "result_df.to_csv(f'{data_dir}/gCNN_ts.csv')"
   ]
  }
 ],
 "metadata": {
  "kernelspec": {
   "display_name": "Python 3 (ipykernel)",
   "language": "python",
   "name": "python3"
  },
  "language_info": {
   "codemirror_mode": {
    "name": "ipython",
    "version": 3
   },
   "file_extension": ".py",
   "mimetype": "text/x-python",
   "name": "python",
   "nbconvert_exporter": "python",
   "pygments_lexer": "ipython3",
   "version": "3.11.3"
  }
 },
 "nbformat": 4,
 "nbformat_minor": 5
}
